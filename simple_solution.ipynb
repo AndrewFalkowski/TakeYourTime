{
 "cells": [
  {
   "cell_type": "markdown",
   "metadata": {},
   "source": [
    "# Problem Demonstration"
   ]
  },
  {
   "cell_type": "code",
   "execution_count": 5,
   "metadata": {},
   "outputs": [],
   "source": [
    "import random\n",
    "import torch\n",
    "import numpy as np\n",
    "from tqdm.auto import trange\n",
    "from tqdm import tqdm\n",
    "\n",
    "from scipy.optimize import minimize\n",
    "\n",
    "from botorch.models import SingleTaskGP\n",
    "from gpytorch.mlls import ExactMarginalLogLikelihood\n",
    "from botorch.fit import fit_gpytorch_model\n",
    "from botorch.optim import optimize_acqf\n",
    "from botorch.acquisition import UpperConfidenceBound, ExpectedImprovement\n",
    "from botorch.test_functions import Hartmann\n",
    "\n",
    "from botorch.models.transforms import Standardize\n",
    "from botorch.models.transforms.input import Normalize\n",
    "\n",
    "from matplotlib import pyplot as plt\n",
    "plt.style.use('ggplot')\n",
    "\n",
    "torch.set_default_dtype(torch.float64)"
   ]
  },
  {
   "cell_type": "markdown",
   "metadata": {},
   "source": [
    "## Define Some Helper Function"
   ]
  },
  {
   "cell_type": "code",
   "execution_count": 6,
   "metadata": {},
   "outputs": [],
   "source": [
    "def set_seeds(seed=42):\n",
    "    \"\"\"set all library random seeds\"\"\"\n",
    "    seed = int(seed)\n",
    "    random.seed(seed)\n",
    "    np.random.seed(seed)\n",
    "    torch.manual_seed(seed)\n",
    "\n",
    "def random_sample(num_points, dims, seed=42):\n",
    "    \"\"\"generate random points in the domain\"\"\"\n",
    "    set_seeds(seed)\n",
    "    return torch.rand(num_points, dims)\n",
    "\n",
    "def restarts_optimizer(gp, bounds):\n",
    "    X_vals = []\n",
    "    acqf = []\n",
    "    for i in [1,2,3,4,5]:\n",
    "        set_seeds(i)\n",
    "        X_new, acq_value = optimize_acqf(\n",
    "            acq_function= UpperConfidenceBound(gp, beta=2),\n",
    "            bounds=bounds,\n",
    "            q=1, # how many new points to generate\n",
    "            num_restarts = 20, # how many times to restart the optimizer\n",
    "            raw_samples = 200, # how many initial points to sample acqf space from\n",
    "        )\n",
    "        X_vals.append(X_new)\n",
    "        acqf.append(acq_value)\n",
    "    \n",
    "    return X_vals[np.argmax(acqf)]\n",
    "\n",
    "def nearest_power_of_two(n):\n",
    "    power = round(np.log2(n))\n",
    "    return 2 ** power\n",
    "\n",
    "seeds = np.loadtxt('seeds.txt', delimiter=',', dtype=int)"
   ]
  },
  {
   "cell_type": "code",
   "execution_count": 7,
   "metadata": {},
   "outputs": [
    {
     "name": "stderr",
     "output_type": "stream",
     "text": [
      "Campaign 1 | Best Value 3.32: 100%|██████████| 25/25 [00:16<00:00,  1.50it/s]t/s]\n",
      "Processing Trial 25 of Campaign 1: 100%|\u001b[31m██████████\u001b[0m| 1/1 [00:16<00:00, 16.66s/it]\n"
     ]
    }
   ],
   "source": [
    "seeds = np.loadtxt('seeds.txt', delimiter=',', dtype=int)\n",
    "n_init = 5\n",
    "n_campaigns = 1\n",
    "budget = 30-n_init\n",
    "\n",
    "data = np.zeros((n_campaigns, n_init+budget))\n",
    "\n",
    "# generate starting data values\n",
    "HART = Hartmann(dim=6, bounds=[(0,1)]*6 ,negate=True)\n",
    "X_ = random_sample(n_init, 6)\n",
    "y_ = torch.tensor([HART(x) for x in X_])[:,None]\n",
    "\n",
    "for i in (pbar0 := trange(n_campaigns, leave=True, colour=\"red\")):\n",
    "    set_seeds(seeds[i]) # set the random seed for the campaign\n",
    "    X = X_.clone()\n",
    "    y = y_.clone()\n",
    "\n",
    "\n",
    "    for j in (pbar1 := trange(budget, leave=True)):\n",
    "\n",
    "        # build the gp model\n",
    "        gp = SingleTaskGP(\n",
    "            train_X = X,\n",
    "            train_Y = y,\n",
    "            input_transform=Normalize(d=X.shape[-1]), # normalize X values\n",
    "            outcome_transform=Standardize(m=y.shape[-1]) # standardize y values\n",
    "        )\n",
    "\n",
    "        # fit the model by maximizing the log marginal likelihood\n",
    "        mll = ExactMarginalLogLikelihood(gp.likelihood, gp)\n",
    "        mll = fit_gpytorch_model(mll)\n",
    "\n",
    "        bounds = torch.tensor([[0.0]*X.shape[-1], [1.0]*X.shape[-1]])\n",
    "\n",
    "        X_new = restarts_optimizer(gp, bounds)\n",
    "        set_seeds(seeds[i])\n",
    "\n",
    "        X = torch.cat([X, X_new])\n",
    "        y = torch.cat([y, HART(X=X_new)[:,None]])\n",
    "\n",
    "        pbar0.set_description(f\"Processing Trial {j+1} of Campaign {i+1}\")\n",
    "        pbar1.set_description(f\"Campaign {i+1} | Best Value {round(torch.max(y).item(),3)}\")\n",
    "\n",
    "\n",
    "    data[i,:] = y.flatten()"
   ]
  },
  {
   "cell_type": "code",
   "execution_count": 8,
   "metadata": {},
   "outputs": [
    {
     "data": {
      "image/png": "[encoded data removed]",
      "text/plain": [
       "<Figure size 640x480 with 1 Axes>"
      ]
     },
     "metadata": {},
     "output_type": "display_data"
    }
   ],
   "source": [
    "best_to_trial = np.maximum.accumulate(data, axis=1)\n",
    "best_to_trial_mean = np.mean(best_to_trial, axis=0)\n",
    "plt.plot(best_to_trial.T, color='black', alpha=0.25, label='trials')\n",
    "plt.plot(best_to_trial_mean, lw=3, color='dodgerblue', label='mean')\n",
    "plt.xlabel('Optimization Iteration')\n",
    "plt.ylabel('Objective Function Value')\n",
    "plt.show()"
   ]
  }
 ],
 "metadata": {
  "kernelspec": {
   "display_name": "botorch-env",
   "language": "python",
   "name": "python3"
  },
  "language_info": {
   "codemirror_mode": {
    "name": "ipython",
    "version": 3
   },
   "file_extension": ".py",
   "mimetype": "text/x-python",
   "name": "python",
   "nbconvert_exporter": "python",
   "pygments_lexer": "ipython3",
   "version": "3.10.13"
  }
 },
 "nbformat": 4,
 "nbformat_minor": 2
}
