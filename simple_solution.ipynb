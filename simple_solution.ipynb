{
 "cells": [
  {
   "cell_type": "markdown",
   "metadata": {},
   "source": [
    "# Problem Demonstration"
   ]
  },
  {
   "cell_type": "code",
   "execution_count": 30,
   "metadata": {},
   "outputs": [],
   "source": [
    "import random\n",
    "import torch\n",
    "import numpy as np\n",
    "from tqdm.auto import trange\n",
    "from tqdm import tqdm\n",
    "\n",
    "from scipy.optimize import minimize\n",
    "\n",
    "from botorch.models import SingleTaskGP\n",
    "from gpytorch.mlls import ExactMarginalLogLikelihood\n",
    "from botorch.fit import fit_gpytorch_model\n",
    "from botorch.optim import optimize_acqf\n",
    "from botorch.acquisition import UpperConfidenceBound, ExpectedImprovement\n",
    "from botorch.test_functions import Hartmann\n",
    "\n",
    "from botorch.models.transforms import Standardize\n",
    "from botorch.models.transforms.input import Normalize\n",
    "\n",
    "from matplotlib import pyplot as plt\n",
    "plt.style.use('ggplot')\n",
    "\n",
    "torch.set_default_dtype(torch.float64)"
   ]
  },
  {
   "cell_type": "markdown",
   "metadata": {},
   "source": [
    "## Define Some Helper Function"
   ]
  },
  {
   "cell_type": "code",
   "execution_count": 31,
   "metadata": {},
   "outputs": [],
   "source": [
    "def set_seeds(seed=42):\n",
    "    \"\"\"set all library random seeds\"\"\"\n",
    "    seed = int(seed)\n",
    "    random.seed(seed)\n",
    "    np.random.seed(seed)\n",
    "    torch.manual_seed(seed)\n",
    "\n",
    "def random_sample(num_points, dims, seed=42):\n",
    "    \"\"\"generate random points in the domain\"\"\"\n",
    "    set_seeds(seed)\n",
    "    return torch.rand(num_points, dims)\n",
    "\n",
    "def restarts_optimizer(gp, bounds):\n",
    "    X_vals = []\n",
    "    acqf = []\n",
    "    for i in [1,2,3,4,5]:\n",
    "        set_seeds(i)\n",
    "        # print(f\"Seed: {seed_val}\")\n",
    "        X_new, acq_value = optimize_acqf(\n",
    "            acq_function= UpperConfidenceBound(gp, beta=2),\n",
    "            bounds=bounds,\n",
    "            q=1, # how many new points to generate\n",
    "            num_restarts = 20, # how many times to restart the optimizer\n",
    "            raw_samples = 200, # how many initial points to sample acqf space from\n",
    "        )\n",
    "        X_vals.append(X_new)\n",
    "        acqf.append(acq_value)\n",
    "    \n",
    "    return X_vals[np.argmax(acqf)], X_vals, acq_value\n",
    "\n",
    "def nearest_power_of_two(n):\n",
    "    power = round(np.log2(n))\n",
    "    return 2 ** power\n",
    "\n",
    "seeds = np.loadtxt('seeds.txt', delimiter=',', dtype=int)"
   ]
  },
  {
   "cell_type": "code",
   "execution_count": 32,
   "metadata": {},
   "outputs": [
    {
     "data": {
      "application/vnd.jupyter.widget-view+json": {
       "model_id": "3fad2c03ce8e4627b43f4d1988c1ab20",
       "version_major": 2,
       "version_minor": 0
      },
      "text/plain": [
       "  0%|          | 0/1 [00:00<?, ?it/s]"
      ]
     },
     "metadata": {},
     "output_type": "display_data"
    },
    {
     "data": {
      "application/vnd.jupyter.widget-view+json": {
       "model_id": "b7de0faca8cc4cb9a718eca6bca55b3a",
       "version_major": 2,
       "version_minor": 0
      },
      "text/plain": [
       "  0%|          | 0/25 [00:00<?, ?it/s]"
      ]
     },
     "metadata": {},
     "output_type": "display_data"
    }
   ],
   "source": [
    "seeds = np.loadtxt('seeds.txt', delimiter=',', dtype=int)\n",
    "n_init = 5\n",
    "n_campaigns = 1\n",
    "budget = 30-n_init\n",
    "\n",
    "data = np.zeros((n_campaigns, n_init+budget))\n",
    "\n",
    "# generate starting data values\n",
    "HART = Hartmann(dim=6, bounds=[(0,1)]*6 ,negate=True)\n",
    "X_ = random_sample(n_init, 6)\n",
    "y_ = torch.tensor([HART(x) for x in X_])[:,None]\n",
    "x_vals_per_seed = []\n",
    "acq_vals_per_seed = []\n",
    "for i in (pbar0 := trange(n_campaigns, leave=True, colour=\"red\")):\n",
    "    set_seeds(seeds[i]) # set the random seed for the campaign\n",
    "    X = X_.clone()\n",
    "    y = y_.clone()\n",
    "\n",
    "\n",
    "    for j in (pbar1 := trange(budget, leave=True)):\n",
    "\n",
    "        # build the gp model\n",
    "        gp = SingleTaskGP(\n",
    "            train_X = X,\n",
    "            train_Y = y,\n",
    "            input_transform=Normalize(d=X.shape[-1]), # normalize X values\n",
    "            outcome_transform=Standardize(m=y.shape[-1]) # standardize y values\n",
    "        )\n",
    "\n",
    "        # fit the model by maximizing the log marginal likelihood\n",
    "        mll = ExactMarginalLogLikelihood(gp.likelihood, gp)\n",
    "        mll = fit_gpytorch_model(mll)\n",
    "\n",
    "        bounds = torch.tensor([[0.0]*X.shape[-1], [1.0]*X.shape[-1]])\n",
    "\n",
    "        X_new,X_vals,acq_val = restarts_optimizer(gp, bounds)\n",
    "        set_seeds(seeds[i])\n",
    "\n",
    "        X = torch.cat([X, X_new])\n",
    "        y = torch.cat([y, HART(X=X_new)[:,None]])\n",
    "        \n",
    "        x_vals_per_seed.append(X_vals)\n",
    "        acq_vals_per_seed.append(acq_val)\n",
    "        pbar0.set_description(f\"Processing Trial {j+1} of Campaign {i+1}\")\n",
    "        pbar1.set_description(f\"Campaign {i+1} | Best Value {round(torch.max(y).item(),3)}\")\n",
    "\n",
    "\n",
    "    data[i,:] = y.flatten()"
   ]
  },
  {
   "cell_type": "code",
   "execution_count": 35,
   "metadata": {},
   "outputs": [
    {
     "data": {
      "text/plain": [
       "[tensor(0.5868),\n",
       " tensor(0.5581),\n",
       " tensor(0.8615),\n",
       " tensor(1.0088),\n",
       " tensor(1.0061),\n",
       " tensor(1.1242),\n",
       " tensor(1.6997),\n",
       " tensor(1.8927),\n",
       " tensor(1.9463),\n",
       " tensor(1.9231),\n",
       " tensor(1.9341),\n",
       " tensor(2.4919),\n",
       " tensor(2.5319),\n",
       " tensor(2.5707),\n",
       " tensor(3.2529),\n",
       " tensor(3.4144),\n",
       " tensor(3.4220),\n",
       " tensor(3.4236),\n",
       " tensor(3.4361),\n",
       " tensor(3.4081),\n",
       " tensor(3.3852),\n",
       " tensor(3.3597),\n",
       " tensor(3.3355),\n",
       " tensor(3.3285),\n",
       " tensor(3.3298)]"
      ]
     },
     "execution_count": 35,
     "metadata": {},
     "output_type": "execute_result"
    }
   ],
   "source": [
    "acq_vals_per_seed "
   ]
  },
  {
   "cell_type": "code",
   "execution_count": 33,
   "metadata": {},
   "outputs": [
    {
     "data": {
      "text/plain": [
       "[[tensor([[0.0175, 0.0137, 0.0151, 0.0583, 0.5807, 0.5172]]),\n",
       "  tensor([[0.0178, 0.0138, 0.0150, 0.0582, 0.5807, 0.5174]]),\n",
       "  tensor([[0.0178, 0.0133, 0.0152, 0.0593, 0.5810, 0.5164]]),\n",
       "  tensor([[0.0175, 0.0137, 0.0148, 0.0583, 0.5809, 0.5164]]),\n",
       "  tensor([[0.0187, 0.0137, 0.0162, 0.0581, 0.5817, 0.5166]])],\n",
       " [tensor([[0.0961, 0.1089, 0.2231, 0.0469, 0.4758, 0.4399]]),\n",
       "  tensor([[0.0961, 0.1089, 0.2231, 0.0469, 0.4758, 0.4399]]),\n",
       "  tensor([[0.0961, 0.1089, 0.2231, 0.0469, 0.4758, 0.4399]]),\n",
       "  tensor([[0.0961, 0.1089, 0.2231, 0.0469, 0.4758, 0.4399]]),\n",
       "  tensor([[0.0961, 0.1089, 0.2231, 0.0469, 0.4758, 0.4399]])],\n",
       " [tensor([[0.1541, 0.1838, 0.3301, 0.0180, 0.4371, 0.4116]]),\n",
       "  tensor([[0.1510, 0.1806, 0.3116, 0.0157, 0.4214, 0.4157]]),\n",
       "  tensor([[0.1510, 0.1805, 0.3115, 0.0157, 0.4214, 0.4157]]),\n",
       "  tensor([[0.1509, 0.1806, 0.3116, 0.0156, 0.4214, 0.4157]]),\n",
       "  tensor([[0.1510, 0.1805, 0.3116, 0.0157, 0.4214, 0.4157]])],\n",
       " [tensor([[2.1541e-01, 1.1847e-01, 2.6234e-01, 1.5868e-04, 3.4617e-01, 4.0618e-01]]),\n",
       "  tensor([[0.1944, 0.1368, 0.2428, 0.0005, 0.3417, 0.3963]]),\n",
       "  tensor([[2.9151e-01, 1.2439e-01, 3.5204e-01, 3.9698e-04, 4.2202e-01, 4.0903e-01]]),\n",
       "  tensor([[0.2447, 0.1071, 0.2809, 0.0000, 0.3607, 0.4076]]),\n",
       "  tensor([[2.9167e-01, 1.2725e-01, 3.5451e-01, 1.5507e-06, 4.2543e-01, 4.0785e-01]])],\n",
       " [tensor([[0.0794, 0.1850, 0.3306, 0.0000, 0.3289, 0.4372]]),\n",
       "  tensor([[0.0795, 0.1850, 0.3307, 0.0000, 0.3289, 0.4372]]),\n",
       "  tensor([[0.0794, 0.1850, 0.3306, 0.0000, 0.3289, 0.4372]]),\n",
       "  tensor([[0.0793, 0.1853, 0.3301, 0.0000, 0.3288, 0.4368]]),\n",
       "  tensor([[0.0796, 0.1849, 0.3309, 0.0000, 0.3289, 0.4374]])],\n",
       " [tensor([[0.1036, 0.1638, 0.4397, 0.0000, 0.3259, 0.5008]]),\n",
       "  tensor([[0.1036, 0.1638, 0.4397, 0.0000, 0.3259, 0.5007]]),\n",
       "  tensor([[0.1036, 0.1638, 0.4397, 0.0000, 0.3259, 0.5007]]),\n",
       "  tensor([[0.1036, 0.1638, 0.4397, 0.0000, 0.3259, 0.5008]]),\n",
       "  tensor([[0.1036, 0.1638, 0.4397, 0.0000, 0.3259, 0.5007]])],\n",
       " [tensor([[0.1478, 0.1373, 0.5617, 0.0000, 0.3228, 0.5558]]),\n",
       "  tensor([[0.1478, 0.1373, 0.5617, 0.0000, 0.3228, 0.5558]]),\n",
       "  tensor([[0.1478, 0.1373, 0.5617, 0.0000, 0.3228, 0.5558]]),\n",
       "  tensor([[0.1478, 0.1373, 0.5617, 0.0000, 0.3228, 0.5558]]),\n",
       "  tensor([[0.1478, 0.1373, 0.5617, 0.0000, 0.3228, 0.5558]])],\n",
       " [tensor([[0.1259, 0.2253, 0.5555, 0.0000, 0.3067, 0.6263]]),\n",
       "  tensor([[0.1259, 0.2253, 0.5556, 0.0000, 0.3067, 0.6263]]),\n",
       "  tensor([[0.1259, 0.2253, 0.5555, 0.0000, 0.3067, 0.6263]]),\n",
       "  tensor([[0.1259, 0.2253, 0.5556, 0.0000, 0.3067, 0.6263]]),\n",
       "  tensor([[0.1259, 0.2253, 0.5556, 0.0000, 0.3067, 0.6263]])],\n",
       " [tensor([[0.0275, 0.0978, 0.5856, 0.0000, 0.3154, 0.6442]]),\n",
       "  tensor([[0.0275, 0.0978, 0.5856, 0.0000, 0.3154, 0.6442]]),\n",
       "  tensor([[0.0275, 0.0978, 0.5856, 0.0000, 0.3154, 0.6442]]),\n",
       "  tensor([[0.0274, 0.0978, 0.5857, 0.0000, 0.3154, 0.6442]]),\n",
       "  tensor([[0.0269, 0.0979, 0.5829, 0.0000, 0.3169, 0.6424]])],\n",
       " [tensor([[0.2566, 0.1519, 0.5143, 0.0000, 0.3124, 0.6414]]),\n",
       "  tensor([[0.2566, 0.1519, 0.5143, 0.0000, 0.3124, 0.6414]]),\n",
       "  tensor([[0.2566, 0.1519, 0.5143, 0.0000, 0.3124, 0.6414]]),\n",
       "  tensor([[0.2565, 0.1519, 0.5143, 0.0000, 0.3124, 0.6414]]),\n",
       "  tensor([[0.2566, 0.1519, 0.5143, 0.0000, 0.3124, 0.6414]])],\n",
       " [tensor([[0.2316, 0.2375, 0.5920, 0.0000, 0.3861, 0.6273]]),\n",
       "  tensor([[0.2316, 0.2375, 0.5920, 0.0000, 0.3862, 0.6273]]),\n",
       "  tensor([[0.2204, 0.2085, 0.5687, 0.0744, 0.3106, 0.6156]]),\n",
       "  tensor([[0.2316, 0.2375, 0.5920, 0.0000, 0.3861, 0.6273]]),\n",
       "  tensor([[0.2316, 0.2375, 0.5920, 0.0000, 0.3861, 0.6273]])],\n",
       " [tensor([[0.2597, 0.2189, 0.6278, 0.1202, 0.2565, 0.6317]]),\n",
       "  tensor([[0.2597, 0.2189, 0.6278, 0.1202, 0.2565, 0.6317]]),\n",
       "  tensor([[0.2597, 0.2189, 0.6278, 0.1202, 0.2565, 0.6317]]),\n",
       "  tensor([[0.2597, 0.2189, 0.6278, 0.1202, 0.2565, 0.6317]]),\n",
       "  tensor([[0.2597, 0.2189, 0.6278, 0.1202, 0.2565, 0.6317]])],\n",
       " [tensor([[0.2572, 0.2459, 0.6386, 0.1362, 0.3582, 0.6377]]),\n",
       "  tensor([[0.2572, 0.2459, 0.6386, 0.1362, 0.3582, 0.6377]]),\n",
       "  tensor([[0.2573, 0.2457, 0.6384, 0.1362, 0.3582, 0.6378]]),\n",
       "  tensor([[0.2572, 0.2459, 0.6386, 0.1362, 0.3582, 0.6377]]),\n",
       "  tensor([[0.2572, 0.2459, 0.6386, 0.1362, 0.3582, 0.6377]])],\n",
       " [tensor([[0.1942, 0.2142, 0.5388, 0.1656, 0.3259, 0.6304]]),\n",
       "  tensor([[0.1942, 0.2143, 0.5388, 0.1656, 0.3259, 0.6304]]),\n",
       "  tensor([[0.1942, 0.2143, 0.5388, 0.1656, 0.3259, 0.6304]]),\n",
       "  tensor([[0.1942, 0.2143, 0.5388, 0.1656, 0.3259, 0.6304]]),\n",
       "  tensor([[0.1942, 0.2143, 0.5388, 0.1656, 0.3259, 0.6304]])],\n",
       " [tensor([[0.1425, 0.1934, 0.4791, 0.2483, 0.3139, 0.6588]]),\n",
       "  tensor([[0.1425, 0.1934, 0.4791, 0.2483, 0.3139, 0.6588]]),\n",
       "  tensor([[0.1425, 0.1934, 0.4791, 0.2483, 0.3139, 0.6588]]),\n",
       "  tensor([[0.1425, 0.1934, 0.4791, 0.2483, 0.3139, 0.6588]]),\n",
       "  tensor([[0.1425, 0.1934, 0.4791, 0.2483, 0.3139, 0.6588]])],\n",
       " [tensor([[0.1605, 0.1586, 0.5097, 0.3003, 0.3187, 0.6085]]),\n",
       "  tensor([[0.1605, 0.1586, 0.5097, 0.3003, 0.3187, 0.6085]]),\n",
       "  tensor([[0.1605, 0.1586, 0.5097, 0.3003, 0.3187, 0.6085]]),\n",
       "  tensor([[0.1605, 0.1586, 0.5097, 0.3003, 0.3187, 0.6085]]),\n",
       "  tensor([[0.1605, 0.1586, 0.5097, 0.3003, 0.3187, 0.6085]])],\n",
       " [tensor([[0.1430, 0.2947, 0.4829, 0.3012, 0.3120, 0.6331]]),\n",
       "  tensor([[0.1430, 0.2947, 0.4829, 0.3012, 0.3120, 0.6331]]),\n",
       "  tensor([[0.1430, 0.2947, 0.4829, 0.3012, 0.3120, 0.6331]]),\n",
       "  tensor([[0.1431, 0.2947, 0.4829, 0.3012, 0.3120, 0.6331]]),\n",
       "  tensor([[0.1430, 0.2947, 0.4829, 0.3012, 0.3120, 0.6331]])],\n",
       " [tensor([[0.2272, 0.1262, 0.4614, 0.2923, 0.3239, 0.6761]]),\n",
       "  tensor([[0.2272, 0.1262, 0.4614, 0.2923, 0.3239, 0.6761]]),\n",
       "  tensor([[0.2272, 0.1262, 0.4614, 0.2923, 0.3239, 0.6761]]),\n",
       "  tensor([[0.2272, 0.1262, 0.4614, 0.2923, 0.3239, 0.6761]]),\n",
       "  tensor([[0.2272, 0.1262, 0.4614, 0.2923, 0.3239, 0.6761]])],\n",
       " [tensor([[0.1537, 0.1104, 0.5384, 0.3055, 0.3390, 0.6976]]),\n",
       "  tensor([[0.1537, 0.1104, 0.5384, 0.3055, 0.3390, 0.6976]]),\n",
       "  tensor([[0.1537, 0.1104, 0.5384, 0.3055, 0.3390, 0.6976]]),\n",
       "  tensor([[0.1537, 0.1104, 0.5384, 0.3055, 0.3390, 0.6976]]),\n",
       "  tensor([[0.1537, 0.1104, 0.5384, 0.3055, 0.3390, 0.6976]])],\n",
       " [tensor([[0.1922, 0.1084, 0.4617, 0.2887, 0.2653, 0.6586]]),\n",
       "  tensor([[0.1922, 0.1084, 0.4617, 0.2887, 0.2653, 0.6586]]),\n",
       "  tensor([[0.1922, 0.1084, 0.4617, 0.2887, 0.2653, 0.6586]]),\n",
       "  tensor([[0.1922, 0.1084, 0.4617, 0.2887, 0.2653, 0.6586]]),\n",
       "  tensor([[0.1922, 0.1084, 0.4617, 0.2887, 0.2653, 0.6586]])],\n",
       " [tensor([[0.1720, 0.1184, 0.4248, 0.2817, 0.3485, 0.6471]]),\n",
       "  tensor([[0.1720, 0.1184, 0.4248, 0.2817, 0.3485, 0.6471]]),\n",
       "  tensor([[0.1720, 0.1184, 0.4248, 0.2817, 0.3485, 0.6471]]),\n",
       "  tensor([[0.1720, 0.1184, 0.4248, 0.2817, 0.3485, 0.6471]]),\n",
       "  tensor([[0.1720, 0.1184, 0.4248, 0.2817, 0.3485, 0.6471]])],\n",
       " [tensor([[0.2361, 0.1713, 0.4812, 0.2736, 0.3217, 0.6466]]),\n",
       "  tensor([[0.2361, 0.1713, 0.4812, 0.2736, 0.3217, 0.6466]]),\n",
       "  tensor([[0.2361, 0.1713, 0.4812, 0.2736, 0.3217, 0.6466]]),\n",
       "  tensor([[0.2361, 0.1713, 0.4812, 0.2736, 0.3217, 0.6466]]),\n",
       "  tensor([[0.2361, 0.1713, 0.4812, 0.2736, 0.3217, 0.6466]])],\n",
       " [tensor([[0.2130, 0.1260, 0.4923, 0.2647, 0.3221, 0.6525]]),\n",
       "  tensor([[0.2130, 0.1260, 0.4923, 0.2647, 0.3221, 0.6525]]),\n",
       "  tensor([[0.2130, 0.1260, 0.4923, 0.2647, 0.3221, 0.6525]]),\n",
       "  tensor([[0.2130, 0.1260, 0.4923, 0.2647, 0.3221, 0.6525]]),\n",
       "  tensor([[0.2130, 0.1260, 0.4923, 0.2647, 0.3221, 0.6525]])],\n",
       " [tensor([[0.1982, 0.1554, 0.4858, 0.2794, 0.3173, 0.6599]]),\n",
       "  tensor([[0.1982, 0.1554, 0.4858, 0.2794, 0.3173, 0.6599]]),\n",
       "  tensor([[0.1982, 0.1554, 0.4858, 0.2794, 0.3173, 0.6599]]),\n",
       "  tensor([[0.1982, 0.1554, 0.4858, 0.2794, 0.3173, 0.6599]]),\n",
       "  tensor([[0.1982, 0.1554, 0.4858, 0.2794, 0.3173, 0.6599]])],\n",
       " [tensor([[0.2047, 0.1587, 0.4754, 0.2690, 0.3153, 0.6682]]),\n",
       "  tensor([[0.2047, 0.1587, 0.4754, 0.2690, 0.3153, 0.6682]]),\n",
       "  tensor([[0.2048, 0.1587, 0.4754, 0.2690, 0.3153, 0.6682]]),\n",
       "  tensor([[0.2047, 0.1587, 0.4754, 0.2690, 0.3153, 0.6682]]),\n",
       "  tensor([[0.2049, 0.1560, 0.4735, 0.2690, 0.3141, 0.6655]])]]"
      ]
     },
     "execution_count": 33,
     "metadata": {},
     "output_type": "execute_result"
    }
   ],
   "source": [
    "x_vals_per_seed"
   ]
  },
  {
   "cell_type": "code",
   "execution_count": 23,
   "metadata": {},
   "outputs": [
    {
     "data": {
      "text/plain": [
       "[tensor([[0.2047, 0.1587, 0.4754, 0.2690, 0.3153, 0.6682]]),\n",
       " tensor([[0.2047, 0.1587, 0.4754, 0.2690, 0.3153, 0.6682]]),\n",
       " tensor([[0.2048, 0.1587, 0.4754, 0.2690, 0.3153, 0.6682]]),\n",
       " tensor([[0.2047, 0.1587, 0.4754, 0.2690, 0.3153, 0.6682]]),\n",
       " tensor([[0.2049, 0.1560, 0.4735, 0.2690, 0.3141, 0.6655]])]"
      ]
     },
     "execution_count": 23,
     "metadata": {},
     "output_type": "execute_result"
    }
   ],
   "source": [
    "X_vals"
   ]
  },
  {
   "cell_type": "code",
   "execution_count": 14,
   "metadata": {},
   "outputs": [
    {
     "data": {
      "image/png": "[encoded data removed]",
      "text/plain": [
       "<Figure size 640x480 with 1 Axes>"
      ]
     },
     "metadata": {},
     "output_type": "display_data"
    }
   ],
   "source": [
    "best_to_trial = np.maximum.accumulate(data, axis=1)\n",
    "best_to_trial_mean = np.mean(best_to_trial, axis=0)\n",
    "plt.plot(best_to_trial.T, color='black', alpha=0.25, label='trials')\n",
    "plt.plot(best_to_trial_mean, lw=3, color='dodgerblue', label='mean')\n",
    "plt.xlabel('Optimization Iteration')\n",
    "plt.ylabel('Objective Function Value')\n",
    "plt.show()"
   ]
  },
  {
   "cell_type": "code",
   "execution_count": null,
   "metadata": {},
   "outputs": [],
   "source": []
  }
 ],
 "metadata": {
  "kernelspec": {
   "display_name": "botorch-env",
   "language": "python",
   "name": "python3"
  },
  "language_info": {
   "codemirror_mode": {
    "name": "ipython",
    "version": 3
   },
   "file_extension": ".py",
   "mimetype": "text/x-python",
   "name": "python",
   "nbconvert_exporter": "python",
   "pygments_lexer": "ipython3",
   "version": "3.12.2"
  }
 },
 "nbformat": 4,
 "nbformat_minor": 2
}
