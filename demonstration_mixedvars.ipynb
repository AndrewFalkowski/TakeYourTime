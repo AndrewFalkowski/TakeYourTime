{
 "cells": [
  {
   "cell_type": "code",
   "execution_count": 66,
   "metadata": {},
   "outputs": [],
   "source": [
    "import random\n",
    "import torch\n",
    "import numpy as np\n",
    "from tqdm.auto import trange\n",
    "from tqdm import tqdm\n",
    "\n",
    "from scipy.optimize import minimize\n",
    "\n",
    "from botorch.models import SingleTaskGP, MixedSingleTaskGP\n",
    "from gpytorch.mlls import ExactMarginalLogLikelihood\n",
    "from botorch.fit import fit_gpytorch_model, fit_gpytorch_mll\n",
    "from botorch.optim import optimize_acqf, optimize_acqf_mixed\n",
    "from botorch.acquisition import UpperConfidenceBound, ExpectedImprovement\n",
    "from botorch.test_functions import Hartmann\n",
    "\n",
    "from botorch.models.transforms import Standardize\n",
    "from botorch.models.transforms.input import Normalize\n",
    "\n",
    "from typing import List\n",
    "\n",
    "from matplotlib import pyplot as plt\n",
    "plt.style.use('ggplot')\n",
    "\n",
    "torch.set_default_dtype(torch.float64)"
   ]
  },
  {
   "cell_type": "code",
   "execution_count": 67,
   "metadata": {},
   "outputs": [],
   "source": [
    "class CategoricalHartmann():\n",
    "    \"\"\"Class for creating a synthetic Hartmann function with a categorical variable.\"\"\"\n",
    "    def __init__(self, levels : int = 3, dims : int = 3, noise_std : float = None, seed : int = 42):\n",
    "        self.levels = levels\n",
    "        assert dims in (3, 6), \"dims must be either 3 or 6\"\n",
    "        self.dims = dims\n",
    "        \n",
    "        np.random.seed(seed) # good seeds: 42, 120, 1\n",
    "\n",
    "        self.level_intercepts = torch.tensor(np.random.permutation(np.arange(0,levels/1.5, 0.5))[:levels])\n",
    "        # self.level_intercepts = torch.tensor(random.sample(range(levels+1), levels))\n",
    "        self.level_slopes = torch.tensor(np.random.permutation(np.linspace(1,2.5,20))[:levels])\n",
    "        self.obj = Hartmann(dim=dims, noise_std=noise_std, bounds=[(0,1)]*dims, negate=True)\n",
    "\n",
    "        self.optimal_params = self.get_max()\n",
    "\n",
    "    def get_max(self):\n",
    "        self.optima = torch.zeros(self.levels)\n",
    "        if self.dims == 3:\n",
    "            for i in range(self.levels):\n",
    "                self.optima[i] = self.obj(torch.tensor([0.114614, 0.555649, 0.852547]))*self.level_slopes[i] + self.level_intercepts[i]\n",
    "        else:\n",
    "            for i in range(self.levels):\n",
    "                self.optima[i] = self.obj(torch.tensor([0.20169, 0.150011, 0.476874, 0.275332, 0.311652, 0.6573]))*self.level_slopes[i] + self.level_intercepts[i]\n",
    "        \n",
    "        return torch.argmax(self.optima).item()\n",
    "\n",
    "    def __call__(self, cat : int, X : List[float]):\n",
    "        # assert cat < self.levels, f\"Invalid Category {cat}\"\n",
    "        return self.obj(X)*self.level_slopes[cat] + self.level_intercepts[cat]\n",
    "    \n",
    "    def __repr__(self):\n",
    "            # Define the string representation of the object\n",
    "            return f\"CategoricalHartmann\\n    Categories = {self.levels}\\n    Continuous Dims = {self.dims}\\n    LevelIntercepts = {self.level_intercepts.tolist()}\\n    LevelSlopes = {self.level_slopes.tolist()}\\n    Optimum: CAT {self.optimal_params} | {torch.max(self.optima)}\""
   ]
  },
  {
   "cell_type": "code",
   "execution_count": 68,
   "metadata": {},
   "outputs": [],
   "source": [
    "def set_seeds(seed=42):\n",
    "    \"\"\"set all library random seeds\"\"\"\n",
    "    seed = int(seed)\n",
    "    random.seed(seed)\n",
    "    np.random.seed(seed)\n",
    "    torch.manual_seed(seed)\n",
    "\n",
    "def random_sampler(n=2, levels=3, dims=3):\n",
    "    \"\"\"Randomly sample the design space.\"\"\"\n",
    "    cont = torch.rand(n, dims, dtype=torch.float64)\n",
    "    cat = torch.randint(0, levels, (n, 1), dtype=torch.float64)\n",
    "    # cat = torch.tensor(np.arange(0, 11, 1))[:,None]\n",
    "    sample = torch.concat([cat, cont], dim=-1)\n",
    "    return sample\n",
    "\n",
    "seeds = np.loadtxt('seeds.txt', delimiter=',', dtype=int)"
   ]
  },
  {
   "cell_type": "code",
   "execution_count": 69,
   "metadata": {},
   "outputs": [
    {
     "name": "stdout",
     "output_type": "stream",
     "text": [
      "CategoricalHartmann\n",
      "    Categories = 5\n",
      "    Continuous Dims = 6\n",
      "    LevelIntercepts = [1.0, 3.0, 0.0, 1.5, 2.0]\n",
      "    LevelSlopes = [1.3947368421052633, 1.0789473684210527, 2.026315789473684, 1.1578947368421053, 1.9473684210526314]\n",
      "    Optimum: CAT 4 | 8.469874534162251\n"
     ]
    }
   ],
   "source": [
    "seeds = np.loadtxt('seeds.txt', delimiter=',', dtype=int)\n",
    "n_init = 5\n",
    "n_campaigns = 5\n",
    "budget = 30-n_init\n",
    "\n",
    "levels = 5 # number of categories\n",
    "dims = 6 # number of continuous dimensions\n",
    "CatHart = CategoricalHartmann(levels=levels, dims=dims, noise_std=0.0, seed=10)\n",
    "print(CatHart)\n",
    "X_ = random_sampler(n=n_init, levels=levels, dims=dims) # deliberately seeking bad samples\n",
    "y_ = CatHart(cat=X_[:,0].to(int), X=X_[:,1:])[:,None]"
   ]
  },
  {
   "cell_type": "code",
   "execution_count": 70,
   "metadata": {},
   "outputs": [
    {
     "name": "stderr",
     "output_type": "stream",
     "text": [
      "  0%|\u001b[31m          \u001b[0m| 0/5 [00:00<?, ?it/s]/Users/andrewf/miniconda3/envs/take_your_time/lib/python3.9/site-packages/botorch/optim/initializers.py:432: BadInitialCandidatesWarning: Unable to find non-zero acquisition function values - initial conditions are being selected randomly.\n",
      "  warnings.warn(\n",
      "Campaign 1 | Best Value 5.367: 100%|██████████| 25/25 [00:40<00:00,  1.63s/it]/s]\n",
      "Processing Trial 25 of Campaign 1:  20%|\u001b[31m██        \u001b[0m| 1/5 [00:40<02:42, 40.67s/it]/Users/andrewf/miniconda3/envs/take_your_time/lib/python3.9/site-packages/botorch/optim/initializers.py:432: BadInitialCandidatesWarning: Unable to find non-zero acquisition function values - initial conditions are being selected randomly.\n",
      "  warnings.warn(\n",
      "Campaign 2 | Best Value 4.559: 100%|██████████| 25/25 [00:31<00:00,  1.28s/it] 40.67s/it]\n",
      "Processing Trial 25 of Campaign 2:  40%|\u001b[31m████      \u001b[0m| 2/5 [01:12<01:46, 35.55s/it]/Users/andrewf/miniconda3/envs/take_your_time/lib/python3.9/site-packages/botorch/optim/initializers.py:432: BadInitialCandidatesWarning: Unable to find non-zero acquisition function values - initial conditions are being selected randomly.\n",
      "  warnings.warn(\n",
      "Campaign 3 | Best Value 4.493: 100%|██████████| 25/25 [00:28<00:00,  1.13s/it] 35.55s/it]\n",
      "Processing Trial 25 of Campaign 3:  60%|\u001b[31m██████    \u001b[0m| 3/5 [01:40<01:04, 32.19s/it]/Users/andrewf/miniconda3/envs/take_your_time/lib/python3.9/site-packages/botorch/optim/initializers.py:432: BadInitialCandidatesWarning: Unable to find non-zero acquisition function values - initial conditions are being selected randomly.\n",
      "  warnings.warn(\n",
      "Campaign 4 | Best Value 6.053: 100%|██████████| 25/25 [00:32<00:00,  1.31s/it] 32.19s/it]\n",
      "Processing Trial 25 of Campaign 4:  80%|\u001b[31m████████  \u001b[0m| 4/5 [02:13<00:32, 32.43s/it]/Users/andrewf/miniconda3/envs/take_your_time/lib/python3.9/site-packages/botorch/optim/initializers.py:432: BadInitialCandidatesWarning: Unable to find non-zero acquisition function values - initial conditions are being selected randomly.\n",
      "  warnings.warn(\n",
      "Processing Trial 5 of Campaign 5:  80%|\u001b[31m████████  \u001b[0m| 4/5 [02:14<00:32, 32.43s/it] /Users/andrewf/miniconda3/envs/take_your_time/lib/python3.9/site-packages/botorch/optim/initializers.py:432: BadInitialCandidatesWarning: Unable to find non-zero acquisition function values - initial conditions are being selected randomly.\n",
      "  warnings.warn(\n",
      "Campaign 5 | Best Value 5.805: 100%|██████████| 25/25 [00:54<00:00,  2.20s/it] 32.43s/it]\n",
      "Processing Trial 25 of Campaign 5: 100%|\u001b[31m██████████\u001b[0m| 5/5 [03:08<00:00, 37.71s/it]\n"
     ]
    }
   ],
   "source": [
    "ensemble_y = np.zeros((n_campaigns, n_init+budget))\n",
    "ensemble_X = np.zeros((n_campaigns, 7, n_init+budget))\n",
    "# ensemble_params = np.zeros((n_campaigns, 8, budget))\n",
    "ensemble_acqf = np.zeros((n_campaigns, budget))\n",
    "\n",
    "for i in (pbar0 := trange(n_campaigns, leave=True, colour=\"red\")):\n",
    "    set_seeds(seeds[i]) # set the random seed for the campaign\n",
    "    X = X_.clone()\n",
    "    y = y_.clone()\n",
    "\n",
    "    # iterate through each trial up to budget - n_initial\n",
    "    for j in (pbar1 := trange(budget, leave=True)):\n",
    "\n",
    "        # build the gp model\n",
    "        gp = MixedSingleTaskGP(\n",
    "            train_X=X,\n",
    "            train_Y=y,\n",
    "            cat_dims=[0],\n",
    "            input_transform = Normalize(d=X.shape[-1], indices=list(np.arange(0, dims, 1)+1)),\n",
    "            outcome_transform = Standardize(m=y.shape[-1]),\n",
    "        )\n",
    "\n",
    "        mll = ExactMarginalLogLikelihood(gp.likelihood, gp)\n",
    "        fit_gpytorch_mll(mll)\n",
    "\n",
    "        bounds = torch.stack([torch.zeros(dims+1), torch.ones(dims+1)])\n",
    "        bounds[0,0] = 0.0\n",
    "        bounds[1,0] = float(levels-1)\n",
    "\n",
    "        X_new, acq_value = optimize_acqf_mixed(\n",
    "            acq_function = UpperConfidenceBound(gp, beta=2),\n",
    "            bounds=bounds,\n",
    "            fixed_features_list=[{0:i} for i in range(levels)],\n",
    "            q=1,\n",
    "            num_restarts=20,\n",
    "            raw_samples=250,\n",
    "        )\n",
    "\n",
    "        ensemble_acqf[i,j] = acq_value.item()\n",
    "\n",
    "        X = torch.cat([X, X_new])\n",
    "        y = torch.cat([y, CatHart(cat=X_new[:,0].to(int), X=X_new[:,1:])[:,None]])\n",
    "\n",
    "        pbar0.set_description(f\"Processing Trial {j+1} of Campaign {i+1}\")\n",
    "        pbar1.set_description(f\"Campaign {i+1} | Best Value {round(torch.max(y).item(),3)}\")\n",
    "\n",
    "    ensemble_y[i,:] = y.flatten()\n",
    "    ensemble_X[i,:,:] = X.T"
   ]
  },
  {
   "cell_type": "code",
   "execution_count": 72,
   "metadata": {},
   "outputs": [
    {
     "data": {
      "image/png": "[encoded data removed]",
      "text/plain": [
       "<Figure size 640x480 with 1 Axes>"
      ]
     },
     "metadata": {},
     "output_type": "display_data"
    }
   ],
   "source": [
    "best_to_trial = np.maximum.accumulate(ensemble_y, axis=1)\n",
    "best_to_trial_mean = np.mean(best_to_trial, axis=0)\n",
    "plt.plot(best_to_trial.T, color='black', alpha=0.25, label='trials')\n",
    "plt.plot(best_to_trial_mean, lw=3, color='dodgerblue', label='mean')\n",
    "plt.axhline(torch.max(CatHart.optima).item(), color='red', ls='--', label='optimal')\n",
    "plt.xlabel('Optimization Iteration')\n",
    "plt.ylabel('Objective Function Value')\n",
    "plt.show()"
   ]
  }
 ],
 "metadata": {
  "kernelspec": {
   "display_name": "take_your_time",
   "language": "python",
   "name": "python3"
  },
  "language_info": {
   "codemirror_mode": {
    "name": "ipython",
    "version": 3
   },
   "file_extension": ".py",
   "mimetype": "text/x-python",
   "name": "python",
   "nbconvert_exporter": "python",
   "pygments_lexer": "ipython3",
   "version": "3.9.19"
  }
 },
 "nbformat": 4,
 "nbformat_minor": 2
}
